{
 "cells": [
  {
   "cell_type": "markdown",
   "id": "21b53d90",
   "metadata": {},
   "source": [
    "# Racial Segragation in US citiesReport\n",
    "Vivaan Bhandari\n",
    "44\n",
    "Div B"
   ]
  },
  {
   "cell_type": "code",
   "execution_count": 1,
   "id": "47d333cf",
   "metadata": {},
   "outputs": [],
   "source": [
    "#project set up\n",
    "import pandas as pd "
   ]
  },
  {
   "cell_type": "code",
   "execution_count": 2,
   "id": "2da3ee02",
   "metadata": {},
   "outputs": [
    {
     "data": {
      "text/html": [
       "<div>\n",
       "<style scoped>\n",
       "    .dataframe tbody tr th:only-of-type {\n",
       "        vertical-align: middle;\n",
       "    }\n",
       "\n",
       "    .dataframe tbody tr th {\n",
       "        vertical-align: top;\n",
       "    }\n",
       "\n",
       "    .dataframe thead th {\n",
       "        text-align: right;\n",
       "    }\n",
       "</style>\n",
       "<table border=\"1\" class=\"dataframe\">\n",
       "  <thead>\n",
       "    <tr style=\"text-align: right;\">\n",
       "      <th></th>\n",
       "      <th>GEOID</th>\n",
       "      <th>GEO.display.label</th>\n",
       "      <th>pop</th>\n",
       "      <th>pop.white</th>\n",
       "      <th>pop.not.white</th>\n",
       "      <th>pct.white</th>\n",
       "      <th>pct.not.white</th>\n",
       "    </tr>\n",
       "  </thead>\n",
       "  <tbody>\n",
       "    <tr>\n",
       "      <th>0</th>\n",
       "      <td>17031010201</td>\n",
       "      <td>17031010201</td>\n",
       "      <td>6450</td>\n",
       "      <td>2312</td>\n",
       "      <td>4138</td>\n",
       "      <td>0.358450</td>\n",
       "      <td>0.641550</td>\n",
       "    </tr>\n",
       "    <tr>\n",
       "      <th>1</th>\n",
       "      <td>17031010202</td>\n",
       "      <td>17031010202</td>\n",
       "      <td>2818</td>\n",
       "      <td>1237</td>\n",
       "      <td>1581</td>\n",
       "      <td>0.438964</td>\n",
       "      <td>0.561036</td>\n",
       "    </tr>\n",
       "    <tr>\n",
       "      <th>2</th>\n",
       "      <td>17031010300</td>\n",
       "      <td>17031010300</td>\n",
       "      <td>6236</td>\n",
       "      <td>3267</td>\n",
       "      <td>2969</td>\n",
       "      <td>0.523894</td>\n",
       "      <td>0.476106</td>\n",
       "    </tr>\n",
       "    <tr>\n",
       "      <th>3</th>\n",
       "      <td>17031010400</td>\n",
       "      <td>17031010400</td>\n",
       "      <td>5042</td>\n",
       "      <td>3341</td>\n",
       "      <td>1701</td>\n",
       "      <td>0.662634</td>\n",
       "      <td>0.337366</td>\n",
       "    </tr>\n",
       "    <tr>\n",
       "      <th>4</th>\n",
       "      <td>17031010503</td>\n",
       "      <td>17031010503</td>\n",
       "      <td>2290</td>\n",
       "      <td>1452</td>\n",
       "      <td>838</td>\n",
       "      <td>0.634061</td>\n",
       "      <td>0.365939</td>\n",
       "    </tr>\n",
       "  </tbody>\n",
       "</table>\n",
       "</div>"
      ],
      "text/plain": [
       "         GEOID  GEO.display.label   pop  pop.white  pop.not.white  pct.white  \\\n",
       "0  17031010201        17031010201  6450       2312           4138   0.358450   \n",
       "1  17031010202        17031010202  2818       1237           1581   0.438964   \n",
       "2  17031010300        17031010300  6236       3267           2969   0.523894   \n",
       "3  17031010400        17031010400  5042       3341           1701   0.662634   \n",
       "4  17031010503        17031010503  2290       1452            838   0.634061   \n",
       "\n",
       "   pct.not.white  \n",
       "0       0.641550  \n",
       "1       0.561036  \n",
       "2       0.476106  \n",
       "3       0.337366  \n",
       "4       0.365939  "
      ]
     },
     "execution_count": 2,
     "metadata": {},
     "output_type": "execute_result"
    }
   ],
   "source": [
    "#for data which is inside the folder type the folder names and acces it basically its adress \n",
    "chicago_df = pd.read_csv(\"data/data/prepped/chicago_race.csv\")\n",
    "#pritning duh\n",
    "chicago_df.head(5)"
   ]
  },
  {
   "cell_type": "markdown",
   "id": "0f2e2c58",
   "metadata": {},
   "source": [
    "# Diversity Ratio "
   ]
  },
  {
   "cell_type": "code",
   "execution_count": 3,
   "id": "88eb20b4",
   "metadata": {},
   "outputs": [
    {
     "name": "stdout",
     "output_type": "stream",
     "text": [
      "There are 2513996 white people\n",
      "There are 2134618 not white people\n",
      "The diversity ratio is 1.1777264128757463\n"
     ]
    }
   ],
   "source": [
    "total_white_people = chicago_df[\"pop.white\"].sum()\n",
    "total_not_white_people = chicago_df[\"pop.not.white\"].sum()\n",
    "diversity_ratio = total_white_people/total_not_white_people\n",
    "\n",
    "print (\"There are\", total_white_people,\"white people\")\n",
    "print (\"There are\", total_not_white_people,\"not white people\")\n",
    "print (\"The diversity ratio is\", diversity_ratio)\n"
   ]
  },
  {
   "cell_type": "code",
   "execution_count": 4,
   "id": "d4da28f9",
   "metadata": {},
   "outputs": [
    {
     "data": {
      "text/html": [
       "<div>\n",
       "<style scoped>\n",
       "    .dataframe tbody tr th:only-of-type {\n",
       "        vertical-align: middle;\n",
       "    }\n",
       "\n",
       "    .dataframe tbody tr th {\n",
       "        vertical-align: top;\n",
       "    }\n",
       "\n",
       "    .dataframe thead th {\n",
       "        text-align: right;\n",
       "    }\n",
       "</style>\n",
       "<table border=\"1\" class=\"dataframe\">\n",
       "  <thead>\n",
       "    <tr style=\"text-align: right;\">\n",
       "      <th></th>\n",
       "      <th>GEOID</th>\n",
       "      <th>GEO.display.label</th>\n",
       "      <th>pop</th>\n",
       "      <th>pop.white</th>\n",
       "      <th>pop.not.white</th>\n",
       "      <th>pct.white</th>\n",
       "      <th>pct.not.white</th>\n",
       "      <th>interaction_index</th>\n",
       "    </tr>\n",
       "  </thead>\n",
       "  <tbody>\n",
       "    <tr>\n",
       "      <th>0</th>\n",
       "      <td>17031010201</td>\n",
       "      <td>17031010201</td>\n",
       "      <td>6450</td>\n",
       "      <td>2312</td>\n",
       "      <td>4138</td>\n",
       "      <td>0.358450</td>\n",
       "      <td>0.641550</td>\n",
       "      <td>0.000695</td>\n",
       "    </tr>\n",
       "    <tr>\n",
       "      <th>1</th>\n",
       "      <td>17031010202</td>\n",
       "      <td>17031010202</td>\n",
       "      <td>2818</td>\n",
       "      <td>1237</td>\n",
       "      <td>1581</td>\n",
       "      <td>0.438964</td>\n",
       "      <td>0.561036</td>\n",
       "      <td>0.000325</td>\n",
       "    </tr>\n",
       "    <tr>\n",
       "      <th>2</th>\n",
       "      <td>17031010300</td>\n",
       "      <td>17031010300</td>\n",
       "      <td>6236</td>\n",
       "      <td>3267</td>\n",
       "      <td>2969</td>\n",
       "      <td>0.523894</td>\n",
       "      <td>0.476106</td>\n",
       "      <td>0.000729</td>\n",
       "    </tr>\n",
       "    <tr>\n",
       "      <th>3</th>\n",
       "      <td>17031010400</td>\n",
       "      <td>17031010400</td>\n",
       "      <td>5042</td>\n",
       "      <td>3341</td>\n",
       "      <td>1701</td>\n",
       "      <td>0.662634</td>\n",
       "      <td>0.337366</td>\n",
       "      <td>0.000528</td>\n",
       "    </tr>\n",
       "    <tr>\n",
       "      <th>4</th>\n",
       "      <td>17031010503</td>\n",
       "      <td>17031010503</td>\n",
       "      <td>2290</td>\n",
       "      <td>1452</td>\n",
       "      <td>838</td>\n",
       "      <td>0.634061</td>\n",
       "      <td>0.365939</td>\n",
       "      <td>0.000249</td>\n",
       "    </tr>\n",
       "    <tr>\n",
       "      <th>...</th>\n",
       "      <td>...</td>\n",
       "      <td>...</td>\n",
       "      <td>...</td>\n",
       "      <td>...</td>\n",
       "      <td>...</td>\n",
       "      <td>...</td>\n",
       "      <td>...</td>\n",
       "      <td>...</td>\n",
       "    </tr>\n",
       "    <tr>\n",
       "      <th>1214</th>\n",
       "      <td>18089030700</td>\n",
       "      <td>18089030700</td>\n",
       "      <td>2064</td>\n",
       "      <td>534</td>\n",
       "      <td>1530</td>\n",
       "      <td>0.258721</td>\n",
       "      <td>0.741279</td>\n",
       "      <td>0.000185</td>\n",
       "    </tr>\n",
       "    <tr>\n",
       "      <th>1215</th>\n",
       "      <td>18089030800</td>\n",
       "      <td>18089030800</td>\n",
       "      <td>4272</td>\n",
       "      <td>1513</td>\n",
       "      <td>2759</td>\n",
       "      <td>0.354167</td>\n",
       "      <td>0.645833</td>\n",
       "      <td>0.000458</td>\n",
       "    </tr>\n",
       "    <tr>\n",
       "      <th>1216</th>\n",
       "      <td>18089030900</td>\n",
       "      <td>18089030900</td>\n",
       "      <td>3575</td>\n",
       "      <td>1097</td>\n",
       "      <td>2478</td>\n",
       "      <td>0.306853</td>\n",
       "      <td>0.693147</td>\n",
       "      <td>0.000356</td>\n",
       "    </tr>\n",
       "    <tr>\n",
       "      <th>1217</th>\n",
       "      <td>18089031000</td>\n",
       "      <td>18089031000</td>\n",
       "      <td>1560</td>\n",
       "      <td>210</td>\n",
       "      <td>1350</td>\n",
       "      <td>0.134615</td>\n",
       "      <td>0.865385</td>\n",
       "      <td>0.000085</td>\n",
       "    </tr>\n",
       "    <tr>\n",
       "      <th>1218</th>\n",
       "      <td>18089040100</td>\n",
       "      <td>18089040100</td>\n",
       "      <td>1474</td>\n",
       "      <td>1148</td>\n",
       "      <td>326</td>\n",
       "      <td>0.778833</td>\n",
       "      <td>0.221167</td>\n",
       "      <td>0.000119</td>\n",
       "    </tr>\n",
       "  </tbody>\n",
       "</table>\n",
       "<p>1219 rows × 8 columns</p>\n",
       "</div>"
      ],
      "text/plain": [
       "            GEOID  GEO.display.label   pop  pop.white  pop.not.white  \\\n",
       "0     17031010201        17031010201  6450       2312           4138   \n",
       "1     17031010202        17031010202  2818       1237           1581   \n",
       "2     17031010300        17031010300  6236       3267           2969   \n",
       "3     17031010400        17031010400  5042       3341           1701   \n",
       "4     17031010503        17031010503  2290       1452            838   \n",
       "...           ...                ...   ...        ...            ...   \n",
       "1214  18089030700        18089030700  2064        534           1530   \n",
       "1215  18089030800        18089030800  4272       1513           2759   \n",
       "1216  18089030900        18089030900  3575       1097           2478   \n",
       "1217  18089031000        18089031000  1560        210           1350   \n",
       "1218  18089040100        18089040100  1474       1148            326   \n",
       "\n",
       "      pct.white  pct.not.white  interaction_index  \n",
       "0      0.358450       0.641550           0.000695  \n",
       "1      0.438964       0.561036           0.000325  \n",
       "2      0.523894       0.476106           0.000729  \n",
       "3      0.662634       0.337366           0.000528  \n",
       "4      0.634061       0.365939           0.000249  \n",
       "...         ...            ...                ...  \n",
       "1214   0.258721       0.741279           0.000185  \n",
       "1215   0.354167       0.645833           0.000458  \n",
       "1216   0.306853       0.693147           0.000356  \n",
       "1217   0.134615       0.865385           0.000085  \n",
       "1218   0.778833       0.221167           0.000119  \n",
       "\n",
       "[1219 rows x 8 columns]"
      ]
     },
     "execution_count": 4,
     "metadata": {},
     "output_type": "execute_result"
    }
   ],
   "source": [
    "#total minority population \n",
    "total_minority_pop = chicago_df[\"pop.not.white\"].sum()\n",
    "\n",
    "#calculating the interaction index \n",
    "chicago_df[\"interaction_index\"] = (chicago_df[\"pop.not.white\"]/total_minority_pop) * (chicago_df[\"pop.white\"]/chicago_df[\"pop\"])\n",
    "\n",
    "chicago_df"
   ]
  },
  {
   "cell_type": "code",
   "execution_count": 5,
   "id": "9aa913f4",
   "metadata": {},
   "outputs": [
    {
     "data": {
      "text/plain": [
       "0.33621530101878605"
      ]
     },
     "execution_count": 5,
     "metadata": {},
     "output_type": "execute_result"
    }
   ],
   "source": [
    "interaction_index_of_chicago = chicago_df[\"interaction_index\"].sum()\n",
    "interaction_index_of_chicago"
   ]
  },
  {
   "cell_type": "markdown",
   "id": "6f5e841d",
   "metadata": {},
   "source": [
    "# Interaction Index of all the cities "
   ]
  },
  {
   "cell_type": "code",
   "execution_count": 6,
   "id": "bd7a7e22",
   "metadata": {},
   "outputs": [],
   "source": [
    "import os "
   ]
  },
  {
   "cell_type": "code",
   "execution_count": 7,
   "id": "c9007dd1",
   "metadata": {},
   "outputs": [
    {
     "data": {
      "text/plain": [
       "['baltimore_race.csv',\n",
       " 'charleston_race.csv',\n",
       " 'chicago_race.csv',\n",
       " 'columbus_race.csv',\n",
       " 'dayton_race.csv',\n",
       " 'denver_race.csv',\n",
       " 'kc_race.csv',\n",
       " 'memphis_race.csv',\n",
       " 'milwaukee_race.csv',\n",
       " 'ok_city_race.csv',\n",
       " 'pittsburgh_race.csv',\n",
       " 'st_louis_race.csv',\n",
       " 'syracuse_race.csv',\n",
       " 'wichita_race.csv']"
      ]
     },
     "execution_count": 7,
     "metadata": {},
     "output_type": "execute_result"
    }
   ],
   "source": [
    "city_file_name_list = os.listdir(\"data/data/prepped/\")\n",
    "city_file_name_list"
   ]
  },
  {
   "cell_type": "code",
   "execution_count": 8,
   "id": "b2cb20ab",
   "metadata": {},
   "outputs": [],
   "source": [
    "def print_interaction_index():\n",
    "    #getting a list of the all the city file names \n",
    "    city_file_name_list = os.listdir(\"data/data/prepped/\")\n",
    "    \n",
    "    #for loop timeeee\n",
    "    #for each city in file \n",
    "    for city_file_name in city_file_name_list:\n",
    "        \n",
    "        #import the city data \n",
    "        city_df = pd.read_csv(\"data/data/prepped/\"+city_file_name)\n",
    "        \n",
    "        #calcutating the total minortiy population \n",
    "        total_minority_pop = city_df[\"pop.not.white\"].sum()\n",
    "        \n",
    "        #calculating the interaction index\n",
    "        city_df[\"interaction_index\"] = (city_df[\"pop.not.white\"]/total_minority_pop) * (city_df[\"pop.white\"]/city_df[\"pop\"])\n",
    "        \n",
    "        interaction_index_of_city = city_df[\"interaction_index\"].sum()\n",
    "        \n",
    "        print(city_file_name.replace(\"_race.csv\" , \"\").title(),\":\", interaction_index_of_city)\n",
    "        \n",
    "        "
   ]
  },
  {
   "cell_type": "code",
   "execution_count": 9,
   "id": "b7be42e4",
   "metadata": {},
   "outputs": [
    {
     "name": "stdout",
     "output_type": "stream",
     "text": [
      "Baltimore : 0.21709369506053244\n",
      "Charleston : 0.5181057467459754\n",
      "Chicago : 0.33621530101878605\n",
      "Columbus : 0.5370267887655849\n",
      "Dayton : 0.5072699799837672\n",
      "Denver : 0.6852801607490661\n",
      "Kc : 0.5806694539317967\n",
      "Memphis : 0.4811953882784695\n",
      "Milwaukee : 0.40424141689420257\n",
      "Ok_City : 0.6134720843684374\n",
      "Pittsburgh : 0.602965687041454\n",
      "St_Louis : 0.4204527865157873\n",
      "Syracuse : 0.606170839777443\n",
      "Wichita : 0.639562420122306\n"
     ]
    }
   ],
   "source": [
    "print_interaction_index()"
   ]
  },
  {
   "cell_type": "code",
   "execution_count": 10,
   "id": "66f814ef",
   "metadata": {},
   "outputs": [],
   "source": [
    "def print_isolation_index():\n",
    "    #getting a list of the all the city file names \n",
    "    city_file_name_list = os.listdir(\"data/data/prepped/\")\n",
    "    \n",
    "    #for loop timeeee\n",
    "    #for each city in file \n",
    "    for city_file_name in city_file_name_list:\n",
    "        \n",
    "        #import the city data \n",
    "        city_df = pd.read_csv(\"data/data/prepped/\"+city_file_name)\n",
    "        \n",
    "        #calcutating the total minortiy population \n",
    "        total_minority_pop = city_df[\"pop.not.white\"].sum()\n",
    "        \n",
    "        #calculating the interaction index\n",
    "        city_df[\"isolation_index\"] = (city_df[\"pop.not.white\"]/total_minority_pop) * (city_df[\"pop.not.white\"]/city_df[\"pop\"])\n",
    "        \n",
    "        isolation_index_of_city = city_df[\"isolation_index\"].sum()\n",
    "        \n",
    "        print(city_file_name.replace(\"_race.csv\" , \"\").title(),\":\", isolation_index_of_city)\n",
    "        "
   ]
  },
  {
   "cell_type": "code",
   "execution_count": 11,
   "id": "62298d74",
   "metadata": {},
   "outputs": [
    {
     "name": "stdout",
     "output_type": "stream",
     "text": [
      "Baltimore : 0.7829063049394676\n",
      "Charleston : 0.4818942532540245\n",
      "Chicago : 0.663784698981214\n",
      "Columbus : 0.4629732112344152\n",
      "Dayton : 0.4927300200162328\n",
      "Denver : 0.3147198392509339\n",
      "Kc : 0.41933054606820336\n",
      "Memphis : 0.5188046117215305\n",
      "Milwaukee : 0.5957585831057974\n",
      "Ok_City : 0.3865279156315625\n",
      "Pittsburgh : 0.39703431295854597\n",
      "St_Louis : 0.5795472134842126\n",
      "Syracuse : 0.393829160222557\n",
      "Wichita : 0.3604375798776941\n"
     ]
    }
   ],
   "source": [
    "print_isolation_index()"
   ]
  },
  {
   "cell_type": "markdown",
   "id": "81830864",
   "metadata": {},
   "source": [
    "# metrics getting the thing for each city (isolation index diversity etc etc by using a for loop"
   ]
  },
  {
   "cell_type": "code",
   "execution_count": 12,
   "id": "91461ee7",
   "metadata": {},
   "outputs": [],
   "source": [
    "def get_interaction_index(city_df):\n",
    "    #calcutating the total minortiy population \n",
    "    total_minority_pop = city_df[\"pop.not.white\"].sum()\n",
    "        \n",
    "    #calculating the interaction index\n",
    "    city_df[\"interaction_index\"] = (city_df[\"pop.not.white\"]/total_minority_pop) * (city_df[\"pop.white\"]/city_df[\"pop\"])\n",
    "        \n",
    "    interaction_index_of_city = city_df[\"interaction_index\"].sum()\n",
    "    \n",
    "    return interaction_index_of_city"
   ]
  },
  {
   "cell_type": "code",
   "execution_count": 13,
   "id": "8b29b613",
   "metadata": {},
   "outputs": [],
   "source": [
    "def get_isolation_index(city_df):\n",
    "    #calcuting interaction index\n",
    "    city_df[\"isolation_index\"] = (city_df[\"pop.not.white\"]/total_minority_pop) * (city_df[\"pop.not.white\"]/city_df[\"pop\"])\n",
    "        \n",
    "    isolation_index_of_city = city_df[\"isolation_index\"].sum()\n",
    "        \n",
    "    return isolation_index_of_city"
   ]
  },
  {
   "cell_type": "code",
   "execution_count": 14,
   "id": "7f06e51c",
   "metadata": {},
   "outputs": [],
   "source": [
    "def get_diversity_ratio(city_df):\n",
    "    total_white_people = city_df[\"pop.white\"].sum()\n",
    "    total_not_white_people = city_df[\"pop.not.white\"].sum()\n",
    "    diversity_ratio = total_white_people/total_not_white_people\n",
    "    return diversity_ratio"
   ]
  },
  {
   "cell_type": "code",
   "execution_count": 15,
   "id": "5be72d83",
   "metadata": {},
   "outputs": [],
   "source": [
    "def get_metrics_df():\n",
    "    #getting a list of the all the city file names \n",
    "    city_file_name_list = os.listdir(\"data/data/prepped/\")\n",
    "    #making an empty data frame \n",
    "    metrics_df = pd.DataFrame(columns=[\"city\",\"interaction_index\",\"isolation_index\",\"diversity_ratio\"])\n",
    "    \n",
    "    ###############################################################\n",
    "    #for loop timeeee\n",
    "    #for each city in file \n",
    "    for city_file_name in city_file_name_list:\n",
    "        \n",
    "        #city df line \n",
    "        city_df = pd.read_csv(\"data/data/prepped/\"+city_file_name)\n",
    "        #new row \n",
    "        new_row = {\"city\": city_file_name.replace(\"_race.csv\" ,\"\").title(),\n",
    "                  \"interaction_index\":get_interaction_index(city_df),\n",
    "                  \"isolation_index\":get_isolation_index(city_df),\n",
    "                  \"diversity_ratio\" : get_diversity_ratio(city_df)}\n",
    "        #madding new row metrics thing \n",
    "        metrics_df = metrics_df.append(new_row,ignore_index = True )\n",
    "        \n",
    "        \n",
    "        \n",
    "        \n",
    "    return metrics_df\n",
    "        "
   ]
  },
  {
   "cell_type": "code",
   "execution_count": 16,
   "id": "13b5a4d4",
   "metadata": {},
   "outputs": [
    {
     "data": {
      "text/html": [
       "<div>\n",
       "<style scoped>\n",
       "    .dataframe tbody tr th:only-of-type {\n",
       "        vertical-align: middle;\n",
       "    }\n",
       "\n",
       "    .dataframe tbody tr th {\n",
       "        vertical-align: top;\n",
       "    }\n",
       "\n",
       "    .dataframe thead th {\n",
       "        text-align: right;\n",
       "    }\n",
       "</style>\n",
       "<table border=\"1\" class=\"dataframe\">\n",
       "  <thead>\n",
       "    <tr style=\"text-align: right;\">\n",
       "      <th></th>\n",
       "      <th>city</th>\n",
       "      <th>interaction_index</th>\n",
       "      <th>isolation_index</th>\n",
       "      <th>diversity_ratio</th>\n",
       "    </tr>\n",
       "  </thead>\n",
       "  <tbody>\n",
       "    <tr>\n",
       "      <th>0</th>\n",
       "      <td>Baltimore</td>\n",
       "      <td>0.217094</td>\n",
       "      <td>0.048177</td>\n",
       "      <td>0.634657</td>\n",
       "    </tr>\n",
       "    <tr>\n",
       "      <th>1</th>\n",
       "      <td>Charleston</td>\n",
       "      <td>0.518106</td>\n",
       "      <td>0.346063</td>\n",
       "      <td>2.051064</td>\n",
       "    </tr>\n",
       "    <tr>\n",
       "      <th>2</th>\n",
       "      <td>Chicago</td>\n",
       "      <td>0.336215</td>\n",
       "      <td>0.663785</td>\n",
       "      <td>1.177726</td>\n",
       "    </tr>\n",
       "    <tr>\n",
       "      <th>3</th>\n",
       "      <td>Columbus</td>\n",
       "      <td>0.537027</td>\n",
       "      <td>0.084045</td>\n",
       "      <td>2.504501</td>\n",
       "    </tr>\n",
       "    <tr>\n",
       "      <th>4</th>\n",
       "      <td>Dayton</td>\n",
       "      <td>0.507270</td>\n",
       "      <td>0.040816</td>\n",
       "      <td>4.056282</td>\n",
       "    </tr>\n",
       "    <tr>\n",
       "      <th>5</th>\n",
       "      <td>Denver</td>\n",
       "      <td>0.685280</td>\n",
       "      <td>0.089823</td>\n",
       "      <td>3.744329</td>\n",
       "    </tr>\n",
       "    <tr>\n",
       "      <th>6</th>\n",
       "      <td>Kc</td>\n",
       "      <td>0.580669</td>\n",
       "      <td>0.090912</td>\n",
       "      <td>3.860438</td>\n",
       "    </tr>\n",
       "    <tr>\n",
       "      <th>7</th>\n",
       "      <td>Memphis</td>\n",
       "      <td>0.481195</td>\n",
       "      <td>0.314499</td>\n",
       "      <td>3.794997</td>\n",
       "    </tr>\n",
       "    <tr>\n",
       "      <th>8</th>\n",
       "      <td>Milwaukee</td>\n",
       "      <td>0.404241</td>\n",
       "      <td>0.124360</td>\n",
       "      <td>2.770268</td>\n",
       "    </tr>\n",
       "    <tr>\n",
       "      <th>9</th>\n",
       "      <td>Ok_City</td>\n",
       "      <td>0.613472</td>\n",
       "      <td>0.063779</td>\n",
       "      <td>2.534255</td>\n",
       "    </tr>\n",
       "    <tr>\n",
       "      <th>10</th>\n",
       "      <td>Pittsburgh</td>\n",
       "      <td>0.602966</td>\n",
       "      <td>0.049413</td>\n",
       "      <td>5.869069</td>\n",
       "    </tr>\n",
       "    <tr>\n",
       "      <th>11</th>\n",
       "      <td>St_Louis</td>\n",
       "      <td>0.420453</td>\n",
       "      <td>0.178092</td>\n",
       "      <td>3.155248</td>\n",
       "    </tr>\n",
       "    <tr>\n",
       "      <th>12</th>\n",
       "      <td>Syracuse</td>\n",
       "      <td>0.606171</td>\n",
       "      <td>0.018655</td>\n",
       "      <td>6.245594</td>\n",
       "    </tr>\n",
       "    <tr>\n",
       "      <th>13</th>\n",
       "      <td>Wichita</td>\n",
       "      <td>0.639562</td>\n",
       "      <td>0.020669</td>\n",
       "      <td>3.729074</td>\n",
       "    </tr>\n",
       "  </tbody>\n",
       "</table>\n",
       "</div>"
      ],
      "text/plain": [
       "          city  interaction_index  isolation_index  diversity_ratio\n",
       "0    Baltimore           0.217094         0.048177         0.634657\n",
       "1   Charleston           0.518106         0.346063         2.051064\n",
       "2      Chicago           0.336215         0.663785         1.177726\n",
       "3     Columbus           0.537027         0.084045         2.504501\n",
       "4       Dayton           0.507270         0.040816         4.056282\n",
       "5       Denver           0.685280         0.089823         3.744329\n",
       "6           Kc           0.580669         0.090912         3.860438\n",
       "7      Memphis           0.481195         0.314499         3.794997\n",
       "8    Milwaukee           0.404241         0.124360         2.770268\n",
       "9      Ok_City           0.613472         0.063779         2.534255\n",
       "10  Pittsburgh           0.602966         0.049413         5.869069\n",
       "11    St_Louis           0.420453         0.178092         3.155248\n",
       "12    Syracuse           0.606171         0.018655         6.245594\n",
       "13     Wichita           0.639562         0.020669         3.729074"
      ]
     },
     "execution_count": 16,
     "metadata": {},
     "output_type": "execute_result"
    }
   ],
   "source": [
    "get_metrics_df()"
   ]
  },
  {
   "cell_type": "code",
   "execution_count": 17,
   "id": "cc04d8aa",
   "metadata": {},
   "outputs": [
    {
     "data": {
      "text/plain": [
       "<AxesSubplot:xlabel='diversity_ratio', ylabel='interaction_index'>"
      ]
     },
     "execution_count": 17,
     "metadata": {},
     "output_type": "execute_result"
    },
    {
     "data": {
      "image/png": "[encoded data removed]",
      "text/plain": [
       "<Figure size 432x288 with 1 Axes>"
      ]
     },
     "metadata": {
      "needs_background": "light"
     },
     "output_type": "display_data"
    }
   ],
   "source": [
    "#investigating the relationship bw the diversity ratio and interaction index (scatter chart)\n",
    "metrics_df = get_metrics_df()\n",
    "metrics_df.plot.scatter(x='diversity_ratio',y='interaction_index' , c= 'Red')"
   ]
  },
  {
   "cell_type": "code",
   "execution_count": 18,
   "id": "485666f1",
   "metadata": {},
   "outputs": [],
   "source": [
    "metrics_df.to_csv(\"metrics_df.csv\")"
   ]
  },
  {
   "cell_type": "code",
   "execution_count": null,
   "id": "009a17f3",
   "metadata": {},
   "outputs": [],
   "source": []
  }
 ],
 "metadata": {
  "kernelspec": {
   "display_name": "Python 3",
   "language": "python",
   "name": "python3"
  },
  "language_info": {
   "codemirror_mode": {
    "name": "ipython",
    "version": 3
   },
   "file_extension": ".py",
   "mimetype": "text/x-python",
   "name": "python",
   "nbconvert_exporter": "python",
   "pygments_lexer": "ipython3",
   "version": "3.8.8"
  }
 },
 "nbformat": 4,
 "nbformat_minor": 5
}
